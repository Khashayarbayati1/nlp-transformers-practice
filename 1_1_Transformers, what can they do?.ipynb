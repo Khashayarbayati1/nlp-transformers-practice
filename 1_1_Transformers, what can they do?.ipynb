{
 "cells": [
  {
   "cell_type": "code",
   "execution_count": 1,
   "id": "78aa2384",
   "metadata": {},
   "outputs": [],
   "source": [
    "import torch\n",
    "\n",
    "from transformers import pipeline\n",
    "\n",
    "device = torch.device(\"cuda\" if torch.cuda.is_available() else \"cpu\")"
   ]
  },
  {
   "cell_type": "code",
   "execution_count": 2,
   "id": "9322eb10",
   "metadata": {},
   "outputs": [
    {
     "name": "stderr",
     "output_type": "stream",
     "text": [
      "Device set to use cuda\n"
     ]
    },
    {
     "name": "stdout",
     "output_type": "stream",
     "text": [
      "Input Text: I'm proud of myself.\n",
      "The predicted tone is 'POSITIVE' with a confidence score of 0.9999.\n"
     ]
    }
   ],
   "source": [
    "classifier = pipeline(\"sentiment-analysis\", model=\"distilbert-base-uncased-finetuned-sst-2-english\", device=device)\n",
    "\n",
    "text = \"I'm proud of myself.\"\n",
    "result = classifier(text)[0]\n",
    "\n",
    "print(\"Input Text:\", text)\n",
    "print(f\"The predicted tone is '{result['label']}' with a confidence score of {result['score']:.4f}.\")\n"
   ]
  },
  {
   "cell_type": "code",
   "execution_count": 3,
   "id": "dc080bbf",
   "metadata": {},
   "outputs": [
    {
     "data": {
      "text/plain": [
       "{'label': 'POSITIVE', 'score': 0.9998781681060791}"
      ]
     },
     "execution_count": 3,
     "metadata": {},
     "output_type": "execute_result"
    }
   ],
   "source": [
    "result"
   ]
  },
  {
   "cell_type": "code",
   "execution_count": 4,
   "id": "d0deb855",
   "metadata": {},
   "outputs": [
    {
     "name": "stderr",
     "output_type": "stream",
     "text": [
      "Device set to use cuda\n"
     ]
    },
    {
     "name": "stdout",
     "output_type": "stream",
     "text": [
      "Input Text: The prime minister announced a new climate policy to reduce carbon emissions.\n",
      "\n",
      "Top Predictions:\n",
      "environment     → 0.6812\n",
      "politics        → 0.2844\n",
      "technology      → 0.0193\n",
      "sports          → 0.0081\n",
      "entertainment   → 0.0071\n"
     ]
    }
   ],
   "source": [
    "classifier = pipeline(\"zero-shot-classification\", model=\"facebook/bart-large-mnli\", device=device)\n",
    "\n",
    "text = \"The prime minister announced a new climate policy to reduce carbon emissions.\"\n",
    "candidate_labels = [\"politics\", \"environment\", \"sports\", \"entertainment\", \"technology\"]\n",
    "\n",
    "result = classifier(text, candidate_labels)\n",
    "    \n",
    "    \n",
    "print(\"Input Text:\", text)\n",
    "print(\"\\nTop Predictions:\")\n",
    "for label, score in zip(result[\"labels\"], result[\"scores\"]):\n",
    "    print(f\"{label:15} → {score:.4f}\")"
   ]
  },
  {
   "cell_type": "code",
   "execution_count": 17,
   "id": "d6b6c582",
   "metadata": {},
   "outputs": [
    {
     "name": "stderr",
     "output_type": "stream",
     "text": [
      "Device set to use cuda\n",
      "Setting `pad_token_id` to `eos_token_id`:50256 for open-end generation.\n"
     ]
    },
    {
     "name": "stdout",
     "output_type": "stream",
     "text": [
      "In a world ruled by machines, a scientist discovered a hidden code that could unlock the secrets of human brains.\n",
      "\n"
     ]
    }
   ],
   "source": [
    "generator = pipeline(\"text-generation\", model=\"gpt2\", device=device)\n",
    "\n",
    "prompt = \"In a world ruled by machines, a scientist discovered a hidden code that could\"\n",
    "output = generator(prompt,\n",
    "                    max_new_tokens=100, \n",
    "                    top_k=50, # keep only the top k highest-probability ones\n",
    "                    top_p=0.95, # nucleus sampling: he smallest possible set of tokens whose cumulative probability ≥ p\n",
    "                    temperature=0.8, # Controls randomness\n",
    "                    repetition_penalty=1.2)\n",
    "\n",
    "print(output[0]['generated_text'])\n"
   ]
  }
 ],
 "metadata": {
  "kernelspec": {
   "display_name": "nlp_may_25",
   "language": "python",
   "name": "python3"
  },
  "language_info": {
   "codemirror_mode": {
    "name": "ipython",
    "version": 3
   },
   "file_extension": ".py",
   "mimetype": "text/x-python",
   "name": "python",
   "nbconvert_exporter": "python",
   "pygments_lexer": "ipython3",
   "version": "3.11.12"
  }
 },
 "nbformat": 4,
 "nbformat_minor": 5
}
